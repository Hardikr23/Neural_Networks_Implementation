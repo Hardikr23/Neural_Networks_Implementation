{
 "cells": [
  {
   "cell_type": "markdown",
   "id": "0af85173",
   "metadata": {},
   "source": [
    "<h1>Task 1 : Loading the Wine dataset</h1>"
   ]
  },
  {
   "cell_type": "code",
   "execution_count": 1,
   "id": "25d6f0bc",
   "metadata": {},
   "outputs": [
    {
     "name": "stdout",
     "output_type": "stream",
     "text": [
      "dict_keys(['data', 'target', 'frame', 'target_names', 'DESCR', 'feature_names'])\n"
     ]
    }
   ],
   "source": [
    "from sklearn.datasets import load_wine\n",
    "\n",
    "wine_data = load_wine()\n",
    "print(wine_data.keys())"
   ]
  },
  {
   "cell_type": "markdown",
   "id": "1e45474b",
   "metadata": {},
   "source": [
    "Exploring the dataset"
   ]
  },
  {
   "cell_type": "code",
   "execution_count": 2,
   "id": "99cc9914",
   "metadata": {
    "scrolled": true
   },
   "outputs": [
    {
     "name": "stdout",
     "output_type": "stream",
     "text": [
      "['class_0' 'class_1' 'class_2']\n"
     ]
    }
   ],
   "source": [
    "print(wine_data[\"target_names\"])"
   ]
  },
  {
   "cell_type": "code",
   "execution_count": 3,
   "id": "43f45056",
   "metadata": {},
   "outputs": [
    {
     "name": "stdout",
     "output_type": "stream",
     "text": [
      "[0 0 0 0 0 0 0 0 0 0 0 0 0 0 0 0 0 0 0 0 0 0 0 0 0 0 0 0 0 0 0 0 0 0 0 0 0\n",
      " 0 0 0 0 0 0 0 0 0 0 0 0 0 0 0 0 0 0 0 0 0 0 1 1 1 1 1 1 1 1 1 1 1 1 1 1 1\n",
      " 1 1 1 1 1 1 1 1 1 1 1 1 1 1 1 1 1 1 1 1 1 1 1 1 1 1 1 1 1 1 1 1 1 1 1 1 1\n",
      " 1 1 1 1 1 1 1 1 1 1 1 1 1 1 1 1 1 1 1 2 2 2 2 2 2 2 2 2 2 2 2 2 2 2 2 2 2\n",
      " 2 2 2 2 2 2 2 2 2 2 2 2 2 2 2 2 2 2 2 2 2 2 2 2 2 2 2 2 2 2]\n"
     ]
    }
   ],
   "source": [
    "print(wine_data[\"target\"])"
   ]
  },
  {
   "cell_type": "code",
   "execution_count": 4,
   "id": "f82b5456",
   "metadata": {},
   "outputs": [
    {
     "name": "stdout",
     "output_type": "stream",
     "text": [
      "(178, 13)\n"
     ]
    }
   ],
   "source": [
    "print(wine_data[\"data\"].shape)"
   ]
  },
  {
   "cell_type": "code",
   "execution_count": 5,
   "id": "f078a9ed",
   "metadata": {},
   "outputs": [
    {
     "name": "stdout",
     "output_type": "stream",
     "text": [
      "[[1.423e+01 1.710e+00 2.430e+00 1.560e+01 1.270e+02 2.800e+00 3.060e+00\n",
      "  2.800e-01 2.290e+00 5.640e+00 1.040e+00 3.920e+00 1.065e+03]]\n"
     ]
    }
   ],
   "source": [
    "print(wine_data[\"data\"][0:1])"
   ]
  },
  {
   "cell_type": "code",
   "execution_count": 6,
   "id": "138e0fa7",
   "metadata": {},
   "outputs": [
    {
     "name": "stdout",
     "output_type": "stream",
     "text": [
      "['alcohol', 'malic_acid', 'ash', 'alcalinity_of_ash', 'magnesium', 'total_phenols', 'flavanoids', 'nonflavanoid_phenols', 'proanthocyanins', 'color_intensity', 'hue', 'od280/od315_of_diluted_wines', 'proline']\n"
     ]
    }
   ],
   "source": [
    "print(wine_data[\"feature_names\"])"
   ]
  },
  {
   "cell_type": "markdown",
   "id": "77f1dfc0",
   "metadata": {},
   "source": [
    "<h1>Task 2 : Splitting the dataset into training and test</h1>"
   ]
  },
  {
   "cell_type": "code",
   "execution_count": 7,
   "id": "9fda1328",
   "metadata": {},
   "outputs": [],
   "source": [
    "from sklearn.model_selection import train_test_split\n",
    "x_train, x_test, y_train, y_test = train_test_split(wine_data[\"data\"], wine_data[\"target\"], random_state = 311)"
   ]
  },
  {
   "cell_type": "code",
   "execution_count": 8,
   "id": "e56924ee",
   "metadata": {},
   "outputs": [
    {
     "name": "stdout",
     "output_type": "stream",
     "text": [
      "(133, 13)\n",
      "(133,)\n",
      "(45, 13)\n",
      "(45,)\n"
     ]
    }
   ],
   "source": [
    "print(x_train.shape)\n",
    "print(y_train.shape)\n",
    "print(x_test.shape)\n",
    "print(y_test.shape)"
   ]
  },
  {
   "cell_type": "markdown",
   "id": "7b118c5e",
   "metadata": {},
   "source": [
    "<h1>Task 3 : Using the MLP Classifier and cross_val_score</h1>"
   ]
  },
  {
   "cell_type": "markdown",
   "id": "8f38ba8e",
   "metadata": {},
   "source": [
    "<h3>Task 3.1 : Applying the MLPClassifier on Wine dataset</h3>"
   ]
  },
  {
   "cell_type": "code",
   "execution_count": 9,
   "id": "862a8cbd",
   "metadata": {},
   "outputs": [
    {
     "name": "stderr",
     "output_type": "stream",
     "text": [
      "/Users/hardikrathod/opt/anaconda3/lib/python3.8/site-packages/sklearn/neural_network/_multilayer_perceptron.py:614: ConvergenceWarning: Stochastic Optimizer: Maximum iterations (200) reached and the optimization hasn't converged yet.\n",
      "  warnings.warn(\n"
     ]
    },
    {
     "data": {
      "text/plain": [
       "MLPClassifier(random_state=311)"
      ]
     },
     "execution_count": 9,
     "metadata": {},
     "output_type": "execute_result"
    }
   ],
   "source": [
    "from sklearn.neural_network import MLPClassifier\n",
    "\n",
    "mlp_model = MLPClassifier(random_state = 311)\n",
    "mlp_model.fit(x_train, y_train)"
   ]
  },
  {
   "cell_type": "markdown",
   "id": "04578a9e",
   "metadata": {},
   "source": [
    "<h3>Task 3.2 : Finding the cross_val_score for default model</h3>"
   ]
  },
  {
   "cell_type": "code",
   "execution_count": 10,
   "id": "9c232c99",
   "metadata": {},
   "outputs": [
    {
     "name": "stderr",
     "output_type": "stream",
     "text": [
      "/Users/hardikrathod/opt/anaconda3/lib/python3.8/site-packages/sklearn/neural_network/_multilayer_perceptron.py:614: ConvergenceWarning: Stochastic Optimizer: Maximum iterations (200) reached and the optimization hasn't converged yet.\n",
      "  warnings.warn(\n",
      "/Users/hardikrathod/opt/anaconda3/lib/python3.8/site-packages/sklearn/neural_network/_multilayer_perceptron.py:614: ConvergenceWarning: Stochastic Optimizer: Maximum iterations (200) reached and the optimization hasn't converged yet.\n",
      "  warnings.warn(\n",
      "/Users/hardikrathod/opt/anaconda3/lib/python3.8/site-packages/sklearn/neural_network/_multilayer_perceptron.py:614: ConvergenceWarning: Stochastic Optimizer: Maximum iterations (200) reached and the optimization hasn't converged yet.\n",
      "  warnings.warn(\n"
     ]
    },
    {
     "name": "stdout",
     "output_type": "stream",
     "text": [
      "The error rate of default Model :  0.15754985754985762\n"
     ]
    },
    {
     "name": "stderr",
     "output_type": "stream",
     "text": [
      "/Users/hardikrathod/opt/anaconda3/lib/python3.8/site-packages/sklearn/neural_network/_multilayer_perceptron.py:614: ConvergenceWarning: Stochastic Optimizer: Maximum iterations (200) reached and the optimization hasn't converged yet.\n",
      "  warnings.warn(\n",
      "/Users/hardikrathod/opt/anaconda3/lib/python3.8/site-packages/sklearn/neural_network/_multilayer_perceptron.py:614: ConvergenceWarning: Stochastic Optimizer: Maximum iterations (200) reached and the optimization hasn't converged yet.\n",
      "  warnings.warn(\n"
     ]
    }
   ],
   "source": [
    "from sklearn.model_selection import cross_val_score\n",
    "import numpy as np\n",
    "cross_scores = cross_val_score(mlp_model, x_train, y_train, cv=5)\n",
    "accuracy = np.mean(cross_scores)\n",
    "print(\"The error rate of default Model : \",1-accuracy)"
   ]
  },
  {
   "cell_type": "markdown",
   "id": "8f009da4",
   "metadata": {},
   "source": [
    "<h1>Task 4 : Trying different parameter values for the max_iter in MLPClassifier to get rid of the warning</h1>"
   ]
  },
  {
   "cell_type": "code",
   "execution_count": 11,
   "id": "d0ec95c3",
   "metadata": {},
   "outputs": [
    {
     "name": "stderr",
     "output_type": "stream",
     "text": [
      "/Users/hardikrathod/opt/anaconda3/lib/python3.8/site-packages/sklearn/neural_network/_multilayer_perceptron.py:614: ConvergenceWarning: Stochastic Optimizer: Maximum iterations (500) reached and the optimization hasn't converged yet.\n",
      "  warnings.warn(\n",
      "/Users/hardikrathod/opt/anaconda3/lib/python3.8/site-packages/sklearn/neural_network/_multilayer_perceptron.py:614: ConvergenceWarning: Stochastic Optimizer: Maximum iterations (500) reached and the optimization hasn't converged yet.\n",
      "  warnings.warn(\n",
      "/Users/hardikrathod/opt/anaconda3/lib/python3.8/site-packages/sklearn/neural_network/_multilayer_perceptron.py:614: ConvergenceWarning: Stochastic Optimizer: Maximum iterations (500) reached and the optimization hasn't converged yet.\n",
      "  warnings.warn(\n",
      "/Users/hardikrathod/opt/anaconda3/lib/python3.8/site-packages/sklearn/neural_network/_multilayer_perceptron.py:614: ConvergenceWarning: Stochastic Optimizer: Maximum iterations (500) reached and the optimization hasn't converged yet.\n",
      "  warnings.warn(\n",
      "/Users/hardikrathod/opt/anaconda3/lib/python3.8/site-packages/sklearn/neural_network/_multilayer_perceptron.py:614: ConvergenceWarning: Stochastic Optimizer: Maximum iterations (500) reached and the optimization hasn't converged yet.\n",
      "  warnings.warn(\n",
      "/Users/hardikrathod/opt/anaconda3/lib/python3.8/site-packages/sklearn/neural_network/_multilayer_perceptron.py:614: ConvergenceWarning: Stochastic Optimizer: Maximum iterations (500) reached and the optimization hasn't converged yet.\n",
      "  warnings.warn(\n"
     ]
    },
    {
     "name": "stdout",
     "output_type": "stream",
     "text": [
      "Max Iter :  500\n",
      "Average Score : 0.9404558404558404\n",
      "Error Rate : 0.05954415954415959\n"
     ]
    },
    {
     "name": "stderr",
     "output_type": "stream",
     "text": [
      "/Users/hardikrathod/opt/anaconda3/lib/python3.8/site-packages/sklearn/neural_network/_multilayer_perceptron.py:614: ConvergenceWarning: Stochastic Optimizer: Maximum iterations (700) reached and the optimization hasn't converged yet.\n",
      "  warnings.warn(\n",
      "/Users/hardikrathod/opt/anaconda3/lib/python3.8/site-packages/sklearn/neural_network/_multilayer_perceptron.py:614: ConvergenceWarning: Stochastic Optimizer: Maximum iterations (700) reached and the optimization hasn't converged yet.\n",
      "  warnings.warn(\n",
      "/Users/hardikrathod/opt/anaconda3/lib/python3.8/site-packages/sklearn/neural_network/_multilayer_perceptron.py:614: ConvergenceWarning: Stochastic Optimizer: Maximum iterations (700) reached and the optimization hasn't converged yet.\n",
      "  warnings.warn(\n",
      "/Users/hardikrathod/opt/anaconda3/lib/python3.8/site-packages/sklearn/neural_network/_multilayer_perceptron.py:614: ConvergenceWarning: Stochastic Optimizer: Maximum iterations (700) reached and the optimization hasn't converged yet.\n",
      "  warnings.warn(\n",
      "/Users/hardikrathod/opt/anaconda3/lib/python3.8/site-packages/sklearn/neural_network/_multilayer_perceptron.py:614: ConvergenceWarning: Stochastic Optimizer: Maximum iterations (700) reached and the optimization hasn't converged yet.\n",
      "  warnings.warn(\n"
     ]
    },
    {
     "name": "stdout",
     "output_type": "stream",
     "text": [
      "Max Iter :  700\n",
      "Average Score : 0.97008547008547\n",
      "Error Rate : 0.02991452991453003\n"
     ]
    },
    {
     "name": "stderr",
     "output_type": "stream",
     "text": [
      "/Users/hardikrathod/opt/anaconda3/lib/python3.8/site-packages/sklearn/neural_network/_multilayer_perceptron.py:614: ConvergenceWarning: Stochastic Optimizer: Maximum iterations (900) reached and the optimization hasn't converged yet.\n",
      "  warnings.warn(\n",
      "/Users/hardikrathod/opt/anaconda3/lib/python3.8/site-packages/sklearn/neural_network/_multilayer_perceptron.py:614: ConvergenceWarning: Stochastic Optimizer: Maximum iterations (900) reached and the optimization hasn't converged yet.\n",
      "  warnings.warn(\n"
     ]
    },
    {
     "name": "stdout",
     "output_type": "stream",
     "text": [
      "Max Iter :  900\n",
      "Average Score : 0.9626780626780628\n",
      "Error Rate : 0.037321937321937226\n"
     ]
    },
    {
     "name": "stderr",
     "output_type": "stream",
     "text": [
      "/Users/hardikrathod/opt/anaconda3/lib/python3.8/site-packages/sklearn/neural_network/_multilayer_perceptron.py:614: ConvergenceWarning: Stochastic Optimizer: Maximum iterations (1100) reached and the optimization hasn't converged yet.\n",
      "  warnings.warn(\n"
     ]
    },
    {
     "name": "stdout",
     "output_type": "stream",
     "text": [
      "Max Iter :  1100\n",
      "Average Score : 0.9626780626780628\n",
      "Error Rate : 0.037321937321937226\n"
     ]
    },
    {
     "name": "stderr",
     "output_type": "stream",
     "text": [
      "/Users/hardikrathod/opt/anaconda3/lib/python3.8/site-packages/sklearn/neural_network/_multilayer_perceptron.py:614: ConvergenceWarning: Stochastic Optimizer: Maximum iterations (1300) reached and the optimization hasn't converged yet.\n",
      "  warnings.warn(\n"
     ]
    },
    {
     "name": "stdout",
     "output_type": "stream",
     "text": [
      "Max Iter :  1300\n",
      "Average Score : 0.9626780626780628\n",
      "Error Rate : 0.037321937321937226\n",
      "Max Iter :  1500\n",
      "Average Score : 0.9626780626780628\n",
      "Error Rate : 0.037321937321937226\n",
      "Max Iter :  1700\n",
      "Average Score : 0.9626780626780628\n",
      "Error Rate : 0.037321937321937226\n"
     ]
    }
   ],
   "source": [
    "max_iter = [500, 700, 900, 1100, 1300, 1500, 1700]\n",
    "for iters in max_iter:\n",
    "    param_mlp_model = MLPClassifier(random_state = 311, max_iter = iters)\n",
    "    param_mlp_model.fit(x_train, y_train)\n",
    "    cross_scores = cross_val_score(param_mlp_model, x_train, y_train, cv=5)\n",
    "    print(\"Max Iter : \",iters)\n",
    "    print(\"Average Score :\",np.mean(cross_scores))\n",
    "    print(\"Error Rate :\", 1-np.mean(cross_scores))"
   ]
  },
  {
   "cell_type": "markdown",
   "id": "364f95a1",
   "metadata": {},
   "source": [
    "<h2>Observations</h2><br>\n",
    "In the above outputs We can see the warning msgs for each iteration of cross_val for each value of max_iter.<br>\n",
    "We can observe that the model gives warnings for the first 5 values(500, 700, 900, 1100, 1300) and finally on the last 2 iterations(1500 and 1700).<br> \n",
    "So we can say that <b>max_iter : 1500</b> can be the minimum value for <b>randon_state : 311</b> with <b>Error Rate : 0.0373</b>"
   ]
  },
  {
   "cell_type": "markdown",
   "id": "5012caed",
   "metadata": {},
   "source": [
    "<h1>Task 5 : Finding the test error rate of the MLPClassifier with the modified values of max_iter</h1>"
   ]
  },
  {
   "cell_type": "code",
   "execution_count": 12,
   "id": "5b779e61",
   "metadata": {},
   "outputs": [
    {
     "name": "stdout",
     "output_type": "stream",
     "text": [
      "The accuracy of the model when using modified parameters : 0.9555555555555556\n",
      "Test Error rate of model : 0.0444444444444444\n"
     ]
    }
   ],
   "source": [
    "new_mlp_model = MLPClassifier(random_state=311, max_iter = 1500)\n",
    "new_mlp_model.fit(x_train, y_train)\n",
    "acc = new_mlp_model.score(x_test, y_test)\n",
    "print(\"The accuracy of the model when using modified parameters :\",acc)\n",
    "err_rate = 1 - acc\n",
    "print(\"Test Error rate of model :\",err_rate)"
   ]
  },
  {
   "cell_type": "markdown",
   "id": "ea03b67d",
   "metadata": {},
   "source": [
    "<h3>Observations</h3>\n",
    "\n",
    "We can see that the error rate in step 4 is 0.037321<br>\n",
    "And, the Test Error Rate in step 5 is 0.044444<br>\n",
    "\n",
    "The possible reason that the error rate is lower in the training set can be beacuse it is calculated using cross_val_score, where our training data is further split into training and test set thus decreasing the size of the traning set. This may lead to out model just memorizing the data hence giving better results.<br>\n",
    "But in the case where we calculate the test error rate, our model has never seen the test set and is not able to predict as good as the one in step 4.<br>"
   ]
  },
  {
   "cell_type": "markdown",
   "id": "4f9b6384",
   "metadata": {},
   "source": [
    "<h1>Task 6 : Creating a pipeline for MLPClassifier with data normalization.</h1>"
   ]
  },
  {
   "cell_type": "markdown",
   "id": "341ee099",
   "metadata": {},
   "source": [
    "Trying different scaler methods for wine dataset"
   ]
  },
  {
   "cell_type": "code",
   "execution_count": 13,
   "id": "0e960b6d",
   "metadata": {},
   "outputs": [],
   "source": [
    "from sklearn.preprocessing import MinMaxScaler, Normalizer, StandardScaler, RobustScaler\n",
    "from sklearn.pipeline import Pipeline"
   ]
  },
  {
   "cell_type": "markdown",
   "id": "da9c6dca",
   "metadata": {},
   "source": [
    "<h3>1. MinMax Scaler</h3>"
   ]
  },
  {
   "cell_type": "code",
   "execution_count": 14,
   "id": "27a75c7f",
   "metadata": {},
   "outputs": [
    {
     "name": "stdout",
     "output_type": "stream",
     "text": [
      "0.9777777777777777\n"
     ]
    }
   ],
   "source": [
    "# Creating the Pipeline with MinMAx Scaler\n",
    "mm_scaler_pipeline = Pipeline([(\"MinMaxScaler\", MinMaxScaler()), \\\n",
    "                      (\"MLP\", MLPClassifier(random_state=311, max_iter = 1500)) \\\n",
    "                     ])\n",
    "mm_scaler_pipeline.fit(x_train, y_train)\n",
    "print(mm_scaler_pipeline.score(x_test, y_test))"
   ]
  },
  {
   "cell_type": "markdown",
   "id": "b18b1ac3",
   "metadata": {},
   "source": [
    "<h3>2. Normalizer Scaler</h3>"
   ]
  },
  {
   "cell_type": "code",
   "execution_count": 15,
   "id": "13606be5",
   "metadata": {},
   "outputs": [
    {
     "name": "stdout",
     "output_type": "stream",
     "text": [
      "0.9111111111111111\n"
     ]
    }
   ],
   "source": [
    "# Creating the Pipeline with Normalizer Scaler\n",
    "n_scaler_pipeline = Pipeline([(\"Normalizer\", Normalizer()), \\\n",
    "                      (\"MLP\", MLPClassifier(random_state=311, max_iter = 3000)) \\\n",
    "                     ])\n",
    "n_scaler_pipeline.fit(x_train, y_train)\n",
    "print(n_scaler_pipeline.score(x_test, y_test))"
   ]
  },
  {
   "cell_type": "markdown",
   "id": "a8d70434",
   "metadata": {},
   "source": [
    "<h3>3. StandardScaler Scaler</h3>"
   ]
  },
  {
   "cell_type": "code",
   "execution_count": 16,
   "id": "d158d032",
   "metadata": {},
   "outputs": [
    {
     "name": "stdout",
     "output_type": "stream",
     "text": [
      "0.9333333333333333\n"
     ]
    }
   ],
   "source": [
    "# Creating the Pipeline with Standard Scaler\n",
    "ss_scaler_pipeline = Pipeline([(\"StandardScaler\", StandardScaler()), \\\n",
    "                      (\"MLP\", MLPClassifier(random_state=311, max_iter = 3000)) \\\n",
    "                     ])\n",
    "ss_scaler_pipeline.fit(x_train, y_train)\n",
    "print(ss_scaler_pipeline.score(x_test, y_test))"
   ]
  },
  {
   "cell_type": "markdown",
   "id": "4b675ea2",
   "metadata": {},
   "source": [
    "<h3>4. Robust Scaler</h3>"
   ]
  },
  {
   "cell_type": "code",
   "execution_count": 17,
   "id": "dac195a4",
   "metadata": {},
   "outputs": [
    {
     "name": "stdout",
     "output_type": "stream",
     "text": [
      "0.9777777777777777\n"
     ]
    }
   ],
   "source": [
    "# Creating the Pipeline with Standard Scaler\n",
    "rs_scaler_pipeline = Pipeline([(\"Robust\", RobustScaler()), \\\n",
    "                      (\"MLP\", MLPClassifier(random_state=311, max_iter = 3000)) \\\n",
    "                     ])\n",
    "rs_scaler_pipeline.fit(x_train, y_train)\n",
    "print(rs_scaler_pipeline.score(x_test, y_test))"
   ]
  },
  {
   "cell_type": "markdown",
   "id": "5816fadf",
   "metadata": {},
   "source": [
    "<h3>Observations</h3>\n",
    "From the above 4 cells, we can see how each scaler performs with our wine data when applied on the pipeline.<br>\n",
    "We can observe that the <b>MinMax Scaler and Robust Scaler</b> have the same and maximun accuracy. So we can select anyone of them to perform GridSearchCV on."
   ]
  },
  {
   "cell_type": "markdown",
   "id": "2f7a1ee6",
   "metadata": {},
   "source": [
    "<h1>Task 7 : Using GridSearch and Cross Validation to tune the alpha parameter.</h1>"
   ]
  },
  {
   "cell_type": "markdown",
   "id": "3195214f",
   "metadata": {},
   "source": [
    "Implementing GridSearchCV using the Normalizer Scaler method"
   ]
  },
  {
   "cell_type": "code",
   "execution_count": 18,
   "id": "ec1ac3aa",
   "metadata": {},
   "outputs": [
    {
     "name": "stdout",
     "output_type": "stream",
     "text": [
      "For Normalizer\n",
      "Best Parameter value : {'MLP__alpha': 0.01}\n",
      "Model Accuracy : 0.9333333333333333\n"
     ]
    }
   ],
   "source": [
    "from sklearn.model_selection import GridSearchCV\n",
    "\n",
    "alpha_grid = {'MLP__alpha':[1000, 100, 10, 0.1, 0.01, 0.001, 0.0001]}\n",
    "\n",
    "grid_search_pipe = GridSearchCV(n_scaler_pipeline, alpha_grid, cv=5, n_jobs = -2)\n",
    "grid_search_pipe.fit(x_train, y_train)\n",
    "print(\"For Normalizer\")\n",
    "print(\"Best Parameter value :\",grid_search_pipe.best_params_)\n",
    "print(\"Model Accuracy :\",grid_search_pipe.score(x_test, y_test))"
   ]
  },
  {
   "cell_type": "markdown",
   "id": "5f092988",
   "metadata": {},
   "source": [
    "Implementing GridSearchCV using the Standard Scaler method"
   ]
  },
  {
   "cell_type": "code",
   "execution_count": 19,
   "id": "e2fa5f83",
   "metadata": {},
   "outputs": [
    {
     "name": "stdout",
     "output_type": "stream",
     "text": [
      "For Standard Scaler\n",
      "Best Parameter value : {'MLP__alpha': 10}\n",
      "Model Accuracy : 0.9555555555555556\n"
     ]
    }
   ],
   "source": [
    "\n",
    "alpha_grid = {'MLP__alpha':[1000, 100, 10, 0.1, 0.01, 0.001, 0.0001]}\n",
    "\n",
    "grid_search_pipe = GridSearchCV(mm_scaler_pipeline, alpha_grid, cv=5, n_jobs = -2)\n",
    "grid_search_pipe.fit(x_train, y_train)\n",
    "print(\"For Standard Scaler\")\n",
    "print(\"Best Parameter value :\",grid_search_pipe.best_params_)\n",
    "print(\"Model Accuracy :\",grid_search_pipe.score(x_test, y_test))"
   ]
  },
  {
   "cell_type": "markdown",
   "id": "974ae6ed",
   "metadata": {},
   "source": [
    "<h1>Task 8 : Implementing Cross-Conformal Predictor</h1>"
   ]
  },
  {
   "cell_type": "markdown",
   "id": "81fba72e",
   "metadata": {},
   "source": [
    "<h3>1. Creating k-folds of the wine training dataset</h3>"
   ]
  },
  {
   "cell_type": "code",
   "execution_count": 20,
   "id": "89769bd7",
   "metadata": {},
   "outputs": [],
   "source": [
    "from sklearn.model_selection import KFold \n",
    "kf = KFold(shuffle=True, random_state=0)"
   ]
  },
  {
   "cell_type": "markdown",
   "id": "ba88e4cd",
   "metadata": {},
   "source": [
    "By default the KFold class creates 5 folds"
   ]
  },
  {
   "cell_type": "code",
   "execution_count": 21,
   "id": "5192d2f5",
   "metadata": {},
   "outputs": [
    {
     "data": {
      "text/plain": [
       "5"
      ]
     },
     "execution_count": 21,
     "metadata": {},
     "output_type": "execute_result"
    }
   ],
   "source": [
    "kf.get_n_splits()"
   ]
  },
  {
   "cell_type": "code",
   "execution_count": 22,
   "id": "e37e4976",
   "metadata": {},
   "outputs": [
    {
     "name": "stdout",
     "output_type": "stream",
     "text": [
      "0.08774258860514446\n"
     ]
    },
    {
     "data": {
      "text/plain": [
       "Text(0, 0.5, 'Error Rate')"
      ]
     },
     "execution_count": 22,
     "metadata": {},
     "output_type": "execute_result"
    },
    {
     "data": {
      "image/png": "[encoded data removed]",
      "text/plain": [
       "<Figure size 432x288 with 1 Axes>"
      ]
     },
     "metadata": {
      "needs_background": "light"
     },
     "output_type": "display_data"
    }
   ],
   "source": [
    "# Creating an empty array to store all false p-values\n",
    "false_p_vals = []\n",
    "all_test_samples_p = [] # Can be removed\n",
    "\n",
    "# For loop to iterate over the folds created using the KFold object\n",
    "for rest_index, fold_index in kf.split(x_train):\n",
    "#     Creating the training and test set by using the row indices which are not part of the current fold\n",
    "    x_rest = x_train[rest_index]\n",
    "    y_rest = y_train[rest_index]\n",
    "    \n",
    "#   We use the GridSearchCV object for Standard Scaler for the wine dataset\n",
    "    grid_search_pipe.fit(x_rest, y_rest)\n",
    "#     A list to store all the prediccted values for the test samples\n",
    "    pred_list = []\n",
    "#     Initialising an empty array of size 45x3 to store the sum of all the probility values for all folds\n",
    "    test_sample_p = np.zeros((len(x_test),len(np.unique(y_rest))))\n",
    "\n",
    "#     Loop to iterate over all the test samples\n",
    "    for test_idx in range(len(x_test)):\n",
    "        \n",
    "        conformity_list = [] # Can be removed\n",
    "#         Creating the feature and label set for the current fold\n",
    "        x_fold = x_train[fold_index]\n",
    "        y_fold = y_train[fold_index]\n",
    "        \n",
    "#         Creating a copy of the xfold which has one extra element which is the test sample\n",
    "        copy_x_fold = np.append(x_fold, [x_test[test_idx]], axis = 0)\n",
    "#         Getting the predicted probabilities for the test sample we appended at the end\n",
    "        predict_proba_list = grid_search_pipe.predict_proba(copy_x_fold)[-1]\n",
    "\n",
    "        test_sample_p[test_idx,:] = test_sample_p[test_idx,:] + predict_proba_list\n",
    "        \n",
    "        predict_proba_list = list(predict_proba_list)\n",
    "#         Getting the index of the class with the max probability\n",
    "        max_p_index = predict_proba_list.index(max(predict_proba_list))\n",
    "        pred_list.append(predict_proba_list[max_p_index])\n",
    "        del predict_proba_list[max_p_index]\n",
    "#         Appending the \n",
    "        false_p_vals = false_p_vals + predict_proba_list\n",
    "        \n",
    "        \n",
    "test_sample_p = test_sample_p/5\n",
    "print(np.mean(false_p_vals))\n",
    "\n",
    "import matplotlib.pyplot as plt\n",
    "eps = np.zeros(100)  \n",
    "err = np.zeros(100)  \n",
    "for k in range(100):\n",
    "    eps[k] = k/100 \n",
    "    err[k] = 0  \n",
    "    for j in range(y_test.shape[0]):\n",
    "        if (test_sample_p[j,y_test[j]] <= eps[k]):  \n",
    "            err[k] = err[k] + 1 \n",
    "    err[k] = err[k] / y_test.shape[0]\n",
    "\n",
    "figure = plt.plot(eps,err)\n",
    "plt.title('Calibration Curve')\n",
    "plt.xlabel('Significance Level')\n",
    "plt.ylabel('Error Rate')"
   ]
  },
  {
   "cell_type": "code",
   "execution_count": null,
   "id": "9d48391d",
   "metadata": {},
   "outputs": [],
   "source": []
  },
  {
   "cell_type": "code",
   "execution_count": null,
   "id": "d1f80282",
   "metadata": {},
   "outputs": [],
   "source": []
  },
  {
   "cell_type": "code",
   "execution_count": null,
   "id": "e6e9f708",
   "metadata": {},
   "outputs": [],
   "source": []
  },
  {
   "cell_type": "markdown",
   "id": "008e4337",
   "metadata": {},
   "source": [
    "<h1>USPS Digits Dataset</h1>"
   ]
  },
  {
   "cell_type": "markdown",
   "id": "fc0dd2cd",
   "metadata": {},
   "source": [
    "<h1>Task 1 : Load the image dataset</h1>"
   ]
  },
  {
   "cell_type": "code",
   "execution_count": 23,
   "id": "97dac68a",
   "metadata": {},
   "outputs": [],
   "source": [
    "training_data = np.genfromtxt(\"/Users/hardikrathod/Desktop/RHUL/ML/Labs and Assignments/Assignment_3/zip.train\")\n",
    "test_data = np.genfromtxt(\"/Users/hardikrathod/Desktop/RHUL/ML/Labs and Assignments/Assignment_3/zip.test\")"
   ]
  },
  {
   "cell_type": "code",
   "execution_count": 24,
   "id": "d3c89428",
   "metadata": {},
   "outputs": [
    {
     "name": "stdout",
     "output_type": "stream",
     "text": [
      "[ 5.    -1.    -1.    -1.    -0.813 -0.671 -0.809 -0.887 -0.671 -0.853\n",
      " -1.    -1.    -0.774 -0.18   0.052 -0.241 -1.    -1.    -1.    -1.\n",
      "  0.392  1.     0.857  0.727  1.     0.805  0.613  0.613  0.86   1.\n",
      "  1.     0.396 -1.    -1.    -1.    -1.    -0.548  1.     1.     1.\n",
      "  1.     1.     1.     1.     1.     1.     1.     0.875 -0.957 -1.\n",
      " -1.    -1.    -0.786  0.961  1.     1.     1.     0.727  0.403  0.403\n",
      "  0.171 -0.314 -0.314 -0.94  -1.    -1.    -1.    -1.    -0.298  1.\n",
      "  1.     1.     0.44   0.056 -0.755 -1.    -1.    -1.    -1.    -1.\n",
      " -1.    -1.    -1.    -1.     0.366  1.     1.     1.     1.     1.\n",
      "  0.889 -0.081 -0.92  -1.    -1.    -1.    -1.    -1.    -1.    -1.\n",
      " -0.396  0.886  0.974  0.851  0.851  0.95   1.     1.     0.539 -0.754\n",
      " -1.    -1.    -1.    -1.    -1.    -1.    -1.    -0.886 -0.505 -1.\n",
      " -1.    -0.649  0.405  1.     1.     0.653 -0.838 -1.    -1.    -1.\n",
      " -1.    -1.    -1.    -1.    -1.    -1.    -1.    -1.    -1.    -0.55\n",
      "  0.993  1.     0.618 -0.869 -1.    -0.96  -0.512  0.134 -0.343 -0.796\n",
      " -1.    -1.    -1.    -1.    -1.    -1.    -0.432  0.994  1.     0.223\n",
      " -1.     0.426  1.     1.     1.     0.214 -1.    -1.    -1.    -1.\n",
      " -1.    -1.    -1.     0.292  1.     0.967 -0.88   0.449  1.     0.896\n",
      " -0.094 -0.75  -1.    -1.    -1.    -1.    -1.    -1.    -1.    -0.627\n",
      "  1.     1.     0.198 -0.105  1.     1.     1.     0.639 -0.168 -0.314\n",
      " -0.446 -1.    -1.    -0.999 -0.337  0.147  0.996  1.     0.667 -0.808\n",
      "  0.065  0.993  1.     1.     1.     1.     0.996  0.97   0.97   0.97\n",
      "  0.998  1.     1.     1.     0.109 -1.    -1.    -0.83  -0.242  0.35\n",
      "  0.8    1.     1.     1.     1.     1.     1.     1.     1.     0.616\n",
      " -0.93  -1.    -1.    -1.    -1.    -1.    -0.858 -0.671 -0.671 -0.033\n",
      "  0.761  0.762  0.126 -0.095 -0.671 -0.828 -1.   ]\n"
     ]
    }
   ],
   "source": [
    "print(training_data[1])"
   ]
  },
  {
   "cell_type": "markdown",
   "id": "fc5473d7",
   "metadata": {},
   "source": [
    "Above is the output of one of the rows from the training data.<br>\n",
    "We can see that the first element of this observation is a number and all other look like pixel values<br>"
   ]
  },
  {
   "cell_type": "markdown",
   "id": "d166963f",
   "metadata": {},
   "source": [
    "<h1>Task 2 : Merge the train and test sets</h1>"
   ]
  },
  {
   "cell_type": "code",
   "execution_count": 25,
   "id": "ae1de185",
   "metadata": {},
   "outputs": [
    {
     "name": "stdout",
     "output_type": "stream",
     "text": [
      "(9298, 257)\n"
     ]
    }
   ],
   "source": [
    "full_data = np.concatenate((training_data, test_data))\n",
    "print(full_data.shape)"
   ]
  },
  {
   "cell_type": "code",
   "execution_count": 26,
   "id": "a6f52e69",
   "metadata": {},
   "outputs": [
    {
     "name": "stdout",
     "output_type": "stream",
     "text": [
      "[6. 5. 4. 7. 3.]\n"
     ]
    }
   ],
   "source": [
    "all_labels = np.array([row[0] for row in full_data])\n",
    "all_features = np.array([row[1:] for row in full_data])\n",
    "print(all_labels[0:5])"
   ]
  },
  {
   "cell_type": "code",
   "execution_count": 27,
   "id": "e1f84315",
   "metadata": {},
   "outputs": [
    {
     "name": "stdout",
     "output_type": "stream",
     "text": [
      "(6973, 256)\n",
      "(6973,)\n",
      "(2325, 256)\n",
      "(2325,)\n"
     ]
    }
   ],
   "source": [
    "d_x_train, d_x_test, d_y_train, d_y_test = train_test_split(all_features, all_labels, random_state= 311)\n",
    "print(d_x_train.shape)\n",
    "print(d_y_train.shape)\n",
    "print(d_x_test.shape)\n",
    "print(d_y_test.shape)"
   ]
  },
  {
   "cell_type": "markdown",
   "id": "41f84bdc",
   "metadata": {},
   "source": [
    "<h1>Task 3 : Using the MLP Classifier and cross_val_score</h1>"
   ]
  },
  {
   "cell_type": "markdown",
   "id": "e23c4ba0",
   "metadata": {},
   "source": [
    "<h3>Task 3.1 : Applying the MLPClassifier on Wine dataset</h3>"
   ]
  },
  {
   "cell_type": "code",
   "execution_count": 28,
   "id": "a1f4df9f",
   "metadata": {},
   "outputs": [
    {
     "name": "stderr",
     "output_type": "stream",
     "text": [
      "/Users/hardikrathod/opt/anaconda3/lib/python3.8/site-packages/sklearn/neural_network/_multilayer_perceptron.py:614: ConvergenceWarning: Stochastic Optimizer: Maximum iterations (200) reached and the optimization hasn't converged yet.\n",
      "  warnings.warn(\n"
     ]
    },
    {
     "data": {
      "text/plain": [
       "MLPClassifier(random_state=311)"
      ]
     },
     "execution_count": 28,
     "metadata": {},
     "output_type": "execute_result"
    }
   ],
   "source": [
    "d_mlp_model = MLPClassifier(random_state = 311)\n",
    "d_mlp_model.fit(x_train, y_train)"
   ]
  },
  {
   "cell_type": "markdown",
   "id": "acd82204",
   "metadata": {},
   "source": [
    "<h3>Task 3.2 : Finding the cross_val_score for default model</h3>"
   ]
  },
  {
   "cell_type": "code",
   "execution_count": 29,
   "id": "6aa88500",
   "metadata": {},
   "outputs": [
    {
     "name": "stdout",
     "output_type": "stream",
     "text": [
      "0.957694471441868\n"
     ]
    }
   ],
   "source": [
    "d_cross_scores = cross_val_score(d_mlp_model, d_x_train, d_y_train, cv=5)\n",
    "print(np.mean(d_cross_scores))"
   ]
  },
  {
   "cell_type": "markdown",
   "id": "55f03dff",
   "metadata": {},
   "source": [
    "<h1>Task 4 :</h1>"
   ]
  },
  {
   "cell_type": "code",
   "execution_count": 30,
   "id": "7aef33ce",
   "metadata": {},
   "outputs": [
    {
     "name": "stderr",
     "output_type": "stream",
     "text": [
      "/Users/hardikrathod/opt/anaconda3/lib/python3.8/site-packages/sklearn/neural_network/_multilayer_perceptron.py:614: ConvergenceWarning: Stochastic Optimizer: Maximum iterations (500) reached and the optimization hasn't converged yet.\n",
      "  warnings.warn(\n",
      "/Users/hardikrathod/opt/anaconda3/lib/python3.8/site-packages/sklearn/neural_network/_multilayer_perceptron.py:614: ConvergenceWarning: Stochastic Optimizer: Maximum iterations (500) reached and the optimization hasn't converged yet.\n",
      "  warnings.warn(\n",
      "/Users/hardikrathod/opt/anaconda3/lib/python3.8/site-packages/sklearn/neural_network/_multilayer_perceptron.py:614: ConvergenceWarning: Stochastic Optimizer: Maximum iterations (500) reached and the optimization hasn't converged yet.\n",
      "  warnings.warn(\n",
      "/Users/hardikrathod/opt/anaconda3/lib/python3.8/site-packages/sklearn/neural_network/_multilayer_perceptron.py:614: ConvergenceWarning: Stochastic Optimizer: Maximum iterations (500) reached and the optimization hasn't converged yet.\n",
      "  warnings.warn(\n",
      "/Users/hardikrathod/opt/anaconda3/lib/python3.8/site-packages/sklearn/neural_network/_multilayer_perceptron.py:614: ConvergenceWarning: Stochastic Optimizer: Maximum iterations (500) reached and the optimization hasn't converged yet.\n",
      "  warnings.warn(\n",
      "/Users/hardikrathod/opt/anaconda3/lib/python3.8/site-packages/sklearn/neural_network/_multilayer_perceptron.py:614: ConvergenceWarning: Stochastic Optimizer: Maximum iterations (500) reached and the optimization hasn't converged yet.\n",
      "  warnings.warn(\n"
     ]
    },
    {
     "name": "stdout",
     "output_type": "stream",
     "text": [
      "Max Iter :  500\n",
      "Average Score : 0.9404558404558404\n",
      "Error Rate : 0.05954415954415959\n"
     ]
    },
    {
     "name": "stderr",
     "output_type": "stream",
     "text": [
      "/Users/hardikrathod/opt/anaconda3/lib/python3.8/site-packages/sklearn/neural_network/_multilayer_perceptron.py:614: ConvergenceWarning: Stochastic Optimizer: Maximum iterations (700) reached and the optimization hasn't converged yet.\n",
      "  warnings.warn(\n",
      "/Users/hardikrathod/opt/anaconda3/lib/python3.8/site-packages/sklearn/neural_network/_multilayer_perceptron.py:614: ConvergenceWarning: Stochastic Optimizer: Maximum iterations (700) reached and the optimization hasn't converged yet.\n",
      "  warnings.warn(\n",
      "/Users/hardikrathod/opt/anaconda3/lib/python3.8/site-packages/sklearn/neural_network/_multilayer_perceptron.py:614: ConvergenceWarning: Stochastic Optimizer: Maximum iterations (700) reached and the optimization hasn't converged yet.\n",
      "  warnings.warn(\n",
      "/Users/hardikrathod/opt/anaconda3/lib/python3.8/site-packages/sklearn/neural_network/_multilayer_perceptron.py:614: ConvergenceWarning: Stochastic Optimizer: Maximum iterations (700) reached and the optimization hasn't converged yet.\n",
      "  warnings.warn(\n",
      "/Users/hardikrathod/opt/anaconda3/lib/python3.8/site-packages/sklearn/neural_network/_multilayer_perceptron.py:614: ConvergenceWarning: Stochastic Optimizer: Maximum iterations (700) reached and the optimization hasn't converged yet.\n",
      "  warnings.warn(\n"
     ]
    },
    {
     "name": "stdout",
     "output_type": "stream",
     "text": [
      "Max Iter :  700\n",
      "Average Score : 0.97008547008547\n",
      "Error Rate : 0.02991452991453003\n"
     ]
    },
    {
     "name": "stderr",
     "output_type": "stream",
     "text": [
      "/Users/hardikrathod/opt/anaconda3/lib/python3.8/site-packages/sklearn/neural_network/_multilayer_perceptron.py:614: ConvergenceWarning: Stochastic Optimizer: Maximum iterations (900) reached and the optimization hasn't converged yet.\n",
      "  warnings.warn(\n",
      "/Users/hardikrathod/opt/anaconda3/lib/python3.8/site-packages/sklearn/neural_network/_multilayer_perceptron.py:614: ConvergenceWarning: Stochastic Optimizer: Maximum iterations (900) reached and the optimization hasn't converged yet.\n",
      "  warnings.warn(\n"
     ]
    },
    {
     "name": "stdout",
     "output_type": "stream",
     "text": [
      "Max Iter :  900\n",
      "Average Score : 0.9626780626780628\n",
      "Error Rate : 0.037321937321937226\n"
     ]
    },
    {
     "name": "stderr",
     "output_type": "stream",
     "text": [
      "/Users/hardikrathod/opt/anaconda3/lib/python3.8/site-packages/sklearn/neural_network/_multilayer_perceptron.py:614: ConvergenceWarning: Stochastic Optimizer: Maximum iterations (1100) reached and the optimization hasn't converged yet.\n",
      "  warnings.warn(\n"
     ]
    },
    {
     "name": "stdout",
     "output_type": "stream",
     "text": [
      "Max Iter :  1100\n",
      "Average Score : 0.9626780626780628\n",
      "Error Rate : 0.037321937321937226\n"
     ]
    },
    {
     "name": "stderr",
     "output_type": "stream",
     "text": [
      "/Users/hardikrathod/opt/anaconda3/lib/python3.8/site-packages/sklearn/neural_network/_multilayer_perceptron.py:614: ConvergenceWarning: Stochastic Optimizer: Maximum iterations (1300) reached and the optimization hasn't converged yet.\n",
      "  warnings.warn(\n"
     ]
    },
    {
     "name": "stdout",
     "output_type": "stream",
     "text": [
      "Max Iter :  1300\n",
      "Average Score : 0.9626780626780628\n",
      "Error Rate : 0.037321937321937226\n",
      "Max Iter :  1500\n",
      "Average Score : 0.9626780626780628\n",
      "Error Rate : 0.037321937321937226\n",
      "Max Iter :  1700\n",
      "Average Score : 0.9626780626780628\n",
      "Error Rate : 0.037321937321937226\n"
     ]
    }
   ],
   "source": [
    "max_iter = [500, 700, 900, 1100, 1300, 1500, 1700]\n",
    "for iters in max_iter:\n",
    "    param_mlp_model = MLPClassifier(random_state = 311, max_iter = iters)\n",
    "    param_mlp_model.fit(x_train, y_train)\n",
    "    cross_scores = cross_val_score(param_mlp_model, x_train, y_train, cv=5)\n",
    "    print(\"Max Iter : \",iters)\n",
    "    print(\"Average Score :\",np.mean(cross_scores))\n",
    "    print(\"Error Rate :\", 1-np.mean(cross_scores))"
   ]
  },
  {
   "cell_type": "markdown",
   "id": "43e9ae5f",
   "metadata": {},
   "source": [
    "<h3>Observations</h3><br>\n",
    "In the above outputs We can see the warning msgs for each iteration of cross_val for each value of max_iter.<br>\n",
    "We can observe that the model gives warnings for the first 5 values(500, 700, 900, 1100, 1300) and finally on the last 2 iterations(1500 and 1700).<br> \n",
    "So we can say that <b>max_iter : 1500</b> can be the minimum value for <b>randon_state : 311</b> with <b>Error Rate : 0.04501</b>"
   ]
  },
  {
   "cell_type": "markdown",
   "id": "73743ecd",
   "metadata": {},
   "source": [
    "<h1>Task 5 : Finding the test error rate of the MLPClassifier with the modified values of max_iter</h1>"
   ]
  },
  {
   "cell_type": "code",
   "execution_count": 31,
   "id": "9d3866cd",
   "metadata": {},
   "outputs": [
    {
     "name": "stdout",
     "output_type": "stream",
     "text": [
      "0.9664516129032258\n",
      "Test Error rate of model : 0.03354838709677421\n"
     ]
    }
   ],
   "source": [
    "d_new_mlp_model = MLPClassifier(random_state=311, max_iter = 1500)\n",
    "d_new_mlp_model.fit(d_x_train, d_y_train)\n",
    "d_acc = d_new_mlp_model.score(d_x_test, d_y_test)\n",
    "print(d_acc)\n",
    "d_err_rate = 1 - d_acc\n",
    "print(\"Test Error rate of model :\",d_err_rate)"
   ]
  },
  {
   "cell_type": "code",
   "execution_count": 32,
   "id": "b16ce16f",
   "metadata": {},
   "outputs": [
    {
     "name": "stdout",
     "output_type": "stream",
     "text": [
      "0.9703225806451613\n"
     ]
    }
   ],
   "source": [
    "# Creating the Pipeline with MinMAx Scaler\n",
    "d_mm_scaler_pipeline = Pipeline([(\"MinMaxScaler\", MinMaxScaler()), \\\n",
    "                      (\"MLP\", MLPClassifier(random_state=311, max_iter = 1500)) \\\n",
    "                     ])\n",
    "d_mm_scaler_pipeline.fit(d_x_train, d_y_train)\n",
    "print(d_mm_scaler_pipeline.score(d_x_test, d_y_test))"
   ]
  },
  {
   "cell_type": "code",
   "execution_count": 33,
   "id": "8371f0fc",
   "metadata": {},
   "outputs": [
    {
     "name": "stdout",
     "output_type": "stream",
     "text": [
      "0.9655913978494624\n"
     ]
    }
   ],
   "source": [
    "# Creating the Pipeline with Normalizer Scaler\n",
    "d_n_scaler_pipeline = Pipeline([(\"Normalizer\", Normalizer()), \\\n",
    "                      (\"MLP\", MLPClassifier(random_state=311, max_iter = 3000)) \\\n",
    "                     ])\n",
    "d_n_scaler_pipeline.fit(d_x_train, d_y_train)\n",
    "print(d_n_scaler_pipeline.score(d_x_test, d_y_test))"
   ]
  },
  {
   "cell_type": "code",
   "execution_count": 34,
   "id": "833af538",
   "metadata": {},
   "outputs": [
    {
     "name": "stdout",
     "output_type": "stream",
     "text": [
      "0.9703225806451613\n"
     ]
    }
   ],
   "source": [
    "# Creating the Pipeline with Standard Scaler\n",
    "d_ss_scaler_pipeline = Pipeline([(\"StandardScaler\", StandardScaler()), \\\n",
    "                      (\"MLP\", MLPClassifier(random_state=311, max_iter = 3000)) \\\n",
    "                     ])\n",
    "d_ss_scaler_pipeline.fit(d_x_train, d_y_train)\n",
    "print(d_ss_scaler_pipeline.score(d_x_test, d_y_test))"
   ]
  },
  {
   "cell_type": "code",
   "execution_count": 35,
   "id": "2ff27fa3",
   "metadata": {},
   "outputs": [
    {
     "name": "stdout",
     "output_type": "stream",
     "text": [
      "0.9617204301075268\n"
     ]
    }
   ],
   "source": [
    "# Creating the Pipeline with Robust Scaler\n",
    "d_rs_scaler_pipeline = Pipeline([(\"Robust\", RobustScaler()), \\\n",
    "                      (\"MLP\", MLPClassifier(random_state=311, max_iter = 3000)) \\\n",
    "                     ])\n",
    "d_rs_scaler_pipeline.fit(d_x_train, d_y_train)\n",
    "print(d_rs_scaler_pipeline.score(d_x_test, d_y_test))"
   ]
  },
  {
   "cell_type": "markdown",
   "id": "73072615",
   "metadata": {},
   "source": [
    "<h3>Observations</h3>\n",
    "From the above 4 cells, we can see how each scaler performs with our USPS data when applied on the pipeline.<br>\n",
    "We can observe that the MinMax Scaler and Standard Scaler have the same accuracy. So we can select anyone of them to perform GridSearchCV on."
   ]
  },
  {
   "cell_type": "code",
   "execution_count": 36,
   "id": "e9a6673b",
   "metadata": {},
   "outputs": [
    {
     "name": "stdout",
     "output_type": "stream",
     "text": [
      "For Normalizer\n",
      "{'MLP__alpha': 0.01}\n",
      "0.9668817204301076\n"
     ]
    }
   ],
   "source": [
    "d_grid_search_pipe = GridSearchCV(d_n_scaler_pipeline, alpha_grid, cv=5, n_jobs = -2)\n",
    "d_grid_search_pipe.fit(d_x_train, d_y_train)\n",
    "print(\"For Normalizer\")\n",
    "print(d_grid_search_pipe.best_params_)\n",
    "print(d_grid_search_pipe.score(d_x_test, d_y_test))"
   ]
  },
  {
   "cell_type": "code",
   "execution_count": 37,
   "id": "09c677a1",
   "metadata": {},
   "outputs": [
    {
     "name": "stdout",
     "output_type": "stream",
     "text": [
      "For Standard Scaler\n",
      "{'MLP__alpha': 0.1}\n",
      "0.9716129032258064\n"
     ]
    }
   ],
   "source": [
    "alpha_grid = {'MLP__alpha':[1000, 100, 10, 0.1, 0.01, 0.001, 0.0001]}\n",
    "\n",
    "d_grid_search_pipe = GridSearchCV(d_ss_scaler_pipeline, alpha_grid, cv=5, n_jobs = -2)\n",
    "d_grid_search_pipe.fit(d_x_train, d_y_train)\n",
    "print(\"For Standard Scaler\")\n",
    "print(d_grid_search_pipe.best_params_)\n",
    "print(d_grid_search_pipe.score(d_x_test, d_y_test))"
   ]
  },
  {
   "cell_type": "markdown",
   "id": "c7f0e6a2",
   "metadata": {},
   "source": [
    "<h1>Task 8 : Implementing Cross-Conformal Predictor</h1>"
   ]
  },
  {
   "cell_type": "markdown",
   "id": "bf01f824",
   "metadata": {},
   "source": [
    "1. Creating k-folds of the wine training dataset"
   ]
  },
  {
   "cell_type": "code",
   "execution_count": 38,
   "id": "738b137a",
   "metadata": {},
   "outputs": [],
   "source": [
    "d_kf = KFold(shuffle=True, random_state=0)"
   ]
  },
  {
   "cell_type": "code",
   "execution_count": 39,
   "id": "4e34257d",
   "metadata": {},
   "outputs": [
    {
     "name": "stdout",
     "output_type": "stream",
     "text": [
      "0.0028503111269489127\n"
     ]
    }
   ],
   "source": [
    "false_p_vals = []\n",
    "all_test_samples_p = [] # Can be removed\n",
    "for rest_index, fold_index in d_kf.split(d_x_train):\n",
    "    x_rest = d_x_train[rest_index]\n",
    "    y_rest = d_y_train[rest_index]\n",
    "    \n",
    "#   We use the GridSearchCV object for Standard Scaler for the wine dataset\n",
    "    grid_search_pipe.fit(x_rest, y_rest)\n",
    "    pred_list = []\n",
    "    test_sample_p = np.zeros((len(d_x_test),len(np.unique(y_rest))))\n",
    "\n",
    "    for test_idx in range(len(d_x_test)):\n",
    "        \n",
    "        conformity_list = [] # Can be removed\n",
    "        x_fold = d_x_train[fold_index]\n",
    "        y_fold = d_y_train[fold_index]\n",
    "        copy_x_fold = np.append(x_fold, [d_x_test[test_idx]], axis = 0)\n",
    "        predict_proba_list = d_grid_search_pipe.predict_proba(copy_x_fold)[-1]\n",
    "\n",
    "        test_sample_p[test_idx,:] = test_sample_p[test_idx,:] + predict_proba_list\n",
    "        \n",
    "        predict_proba_list = list(predict_proba_list)\n",
    "        max_p_index = predict_proba_list.index(max(predict_proba_list))\n",
    "        pred_list.append(predict_proba_list[max_p_index])\n",
    "        del predict_proba_list[max_p_index]\n",
    "        false_p_vals = false_p_vals + predict_proba_list\n",
    "        \n",
    "        \n",
    "test_sample_p = test_sample_p/kf.get_n_splits()\n",
    "print(np.mean(false_p_vals))\n",
    "\n"
   ]
  },
  {
   "cell_type": "code",
   "execution_count": 40,
   "id": "5ca0b87a",
   "metadata": {},
   "outputs": [
    {
     "data": {
      "text/plain": [
       "Text(0, 0.5, 'Error Rate')"
      ]
     },
     "execution_count": 40,
     "metadata": {},
     "output_type": "execute_result"
    },
    {
     "data": {
      "image/png": "[encoded data removed]",
      "text/plain": [
       "<Figure size 432x288 with 1 Axes>"
      ]
     },
     "metadata": {
      "needs_background": "light"
     },
     "output_type": "display_data"
    }
   ],
   "source": [
    "import matplotlib.pyplot as plt\n",
    "eps = np.zeros(100)  # a range of significance levels\n",
    "err = np.zeros(100)  # the corresponding error rates\n",
    "for k in range(100):\n",
    "    eps[k] = k/100 # considering eps = k%\n",
    "    err[k] = 0 # initializing the error rate \n",
    "    for j in range(d_y_test.shape[0]):\n",
    "        if (test_sample_p[j,int(d_y_test[j])] <= eps[k]): # if we made an error \n",
    "            err[k] = err[k] + 1 # count this error\n",
    "    err[k] = err[k] / d_y_test.shape[0] # number of errors -> error rate \n",
    "\n",
    "figure = plt.plot(eps,err)\n",
    "plt.title('Calibration Curve')\n",
    "plt.xlabel('Significance Level')\n",
    "plt.ylabel('Error Rate')"
   ]
  },
  {
   "cell_type": "code",
   "execution_count": null,
   "id": "edf1bb7a",
   "metadata": {},
   "outputs": [],
   "source": []
  },
  {
   "cell_type": "code",
   "execution_count": null,
   "id": "7f59cd08",
   "metadata": {},
   "outputs": [],
   "source": []
  },
  {
   "cell_type": "markdown",
   "id": "52b28abf",
   "metadata": {},
   "source": [
    "<h1>Implementing SVC for Wine Dataset </h1>"
   ]
  },
  {
   "cell_type": "markdown",
   "id": "abaffed7",
   "metadata": {},
   "source": [
    "<h1> Task 4 : Implementing the default version of SVC on Wine Dataset </h1>"
   ]
  },
  {
   "cell_type": "code",
   "execution_count": 41,
   "id": "8930a350",
   "metadata": {},
   "outputs": [
    {
     "name": "stdout",
     "output_type": "stream",
     "text": [
      "Average Score : 0.6695156695156694\n",
      "Error Rate : 0.33048433048433057\n"
     ]
    }
   ],
   "source": [
    "from sklearn.svm import SVC\n",
    "\n",
    "svc = SVC(random_state=311)\n",
    "svc.fit(x_train, y_train)\n",
    "cross_scores = cross_val_score(svc, x_train, y_train, cv=5)\n",
    "print(\"Average Score :\",np.mean(cross_scores))\n",
    "print(\"Error Rate :\", 1-np.mean(cross_scores))"
   ]
  },
  {
   "cell_type": "markdown",
   "id": "1e3f900c",
   "metadata": {},
   "source": [
    "<h3> Trying different parameter values for SVC</h3>"
   ]
  },
  {
   "cell_type": "code",
   "execution_count": 42,
   "id": "4ba427c9",
   "metadata": {},
   "outputs": [
    {
     "name": "stdout",
     "output_type": "stream",
     "text": [
      "For SVC : SVC(C=0.01, degree=1, random_state=311)\n",
      "Average Score : 0.39088319088319085\n",
      "Error Rate : 0.6091168091168091\n",
      "\n",
      "\n",
      "For SVC : SVC(C=0.1, degree=2, random_state=311)\n",
      "Average Score : 0.6621082621082621\n",
      "Error Rate : 0.3378917378917379\n",
      "\n",
      "\n",
      "For SVC : SVC(C=1, random_state=311)\n",
      "Average Score : 0.6695156695156694\n",
      "Error Rate : 0.33048433048433057\n",
      "\n",
      "\n",
      "For SVC : SVC(C=10, degree=4, random_state=311)\n",
      "Average Score : 0.6925925925925925\n",
      "Error Rate : 0.30740740740740746\n",
      "\n",
      "\n",
      "For SVC : SVC(C=100, degree=5, random_state=311)\n",
      "Average Score : 0.752991452991453\n",
      "Error Rate : 0.24700854700854702\n",
      "\n",
      "\n",
      "For SVC : SVC(C=1000, degree=6, random_state=311)\n",
      "Average Score : 0.8809116809116808\n",
      "Error Rate : 0.11908831908831918\n",
      "\n",
      "\n"
     ]
    }
   ],
   "source": [
    "c_list = [0.01, 0.1, 1, 10, 100, 1000]\n",
    "degree_list = [1,2,3, 4, 5, 6]\n",
    "for i in range(len(c_list)):\n",
    "    svc = SVC(C = c_list[i], degree = degree_list[i], random_state=311)\n",
    "    svc.fit(x_train, y_train)\n",
    "    cross_scores = cross_val_score(svc, x_train, y_train, cv=5)\n",
    "    print(\"For SVC : {}\".format(svc))\n",
    "    print(\"Average Score :\",np.mean(cross_scores))\n",
    "    print(\"Error Rate :\", 1-np.mean(cross_scores))\n",
    "    print(\"\\n\")\n"
   ]
  },
  {
   "cell_type": "markdown",
   "id": "96483e7a",
   "metadata": {},
   "source": [
    "In the above outputs, we can see the average score and error rate for our SVC model when we try different values of <b>C</b> and <b>degree</b><br>\n",
    "\n",
    "<h3>Observations </h3>\n",
    "We can see that as we keep increasing the values of both C and degree the accuracy of the model keeps on increasing"
   ]
  },
  {
   "cell_type": "markdown",
   "id": "ebd4bbed",
   "metadata": {},
   "source": [
    "<h1>Task 5 : SVC with the paramaeters that give the best accuracy</h1>\n",
    "We select c=1000 and degree=6 and run the SVC model for it for prediction"
   ]
  },
  {
   "cell_type": "code",
   "execution_count": 43,
   "id": "677dcbbb",
   "metadata": {},
   "outputs": [
    {
     "name": "stdout",
     "output_type": "stream",
     "text": [
      "Configuration : SVC(C=1000, degree=6, random_state=311)\n",
      "Test Accuracy : 0.8888888888888888\n",
      "Test Error Rate : 0.11111111111111116\n"
     ]
    }
   ],
   "source": [
    "new_svc = SVC(C=1000, degree = 6, random_state=311)\n",
    "new_svc.fit(x_train, y_train)\n",
    "svc_acc = new_svc.score(x_test, y_test)\n",
    "print(\"Configuration :\", new_svc)\n",
    "print(\"Test Accuracy :\",svc_acc)\n",
    "d_err_rate = 1 - svc_acc\n",
    "print(\"Test Error Rate :\",d_err_rate)"
   ]
  },
  {
   "cell_type": "markdown",
   "id": "8af3b5b3",
   "metadata": {},
   "source": [
    "<h3>Observations</h3>\n",
    "Step 4 Accuracy : 0.88091<br>\n",
    "Step 5 Accuracy : 0.88888<br><br>\n",
    "\n",
    "Step 4 Error Rate : 0.1111<br>\n",
    "Step 5 Error Rate : 0.033<br>\n",
    "\n",
    "From the above numbers we can say that the model performs slightly lower when trained on the entire training dataset.</br>\n",
    "The reason might be that, the size of the dataset is too small to be ran with cross_validation"
   ]
  },
  {
   "cell_type": "markdown",
   "id": "e1c48285",
   "metadata": {},
   "source": [
    "<h1>Task 6 : Creating a pipeline for SVC with data normalization.</h1>"
   ]
  },
  {
   "cell_type": "code",
   "execution_count": 44,
   "id": "0b50ac7d",
   "metadata": {},
   "outputs": [
    {
     "name": "stdout",
     "output_type": "stream",
     "text": [
      "For MinMax Scaler :\n",
      "0.9555555555555556\n",
      "\n",
      "\n",
      "For Normalizer Scaler :\n",
      "0.9555555555555556\n",
      "\n",
      "\n",
      "For Standard Scaler :\n",
      "0.9555555555555556\n",
      "\n",
      "\n",
      "For Robust Scaler :\n",
      "0.9555555555555556\n"
     ]
    }
   ],
   "source": [
    "# Creating the Pipeline with MinMAx Scaler\n",
    "mm_scaler_pipeline = Pipeline([(\"MinMaxScaler\", MinMaxScaler()), \\\n",
    "                      (\"svc\", SVC(random_state=311, C=1000, degree = 6)) \\\n",
    "                     ])\n",
    "mm_scaler_pipeline.fit(x_train, y_train)\n",
    "print(\"For MinMax Scaler :\")\n",
    "print(mm_scaler_pipeline.score(x_test, y_test))\n",
    "print(\"\\n\")\n",
    "\n",
    "# Creating the Pipeline with Normalizer Scaler\n",
    "n_scaler_pipeline = Pipeline([(\"Normalizer\", Normalizer()), \\\n",
    "                      (\"svc\", SVC(random_state=311, C=1000, degree = 6)) \\\n",
    "                     ])\n",
    "n_scaler_pipeline.fit(x_train, y_train)\n",
    "print(\"For Normalizer Scaler :\")\n",
    "print(n_scaler_pipeline.score(x_test, y_test))\n",
    "print(\"\\n\")\n",
    "\n",
    "# Creating the Pipeline with Standard Scaler\n",
    "ss_scaler_pipeline = Pipeline([(\"StandardScaler\", StandardScaler()), \\\n",
    "                      (\"svc\", SVC(random_state=311, C=1000, degree = 6)) \\\n",
    "                     ])\n",
    "ss_scaler_pipeline.fit(x_train, y_train)\n",
    "print(\"For Standard Scaler :\")\n",
    "print(ss_scaler_pipeline.score(x_test, y_test))\n",
    "print(\"\\n\")\n",
    "\n",
    "# Creating the Pipeline with Standard Scaler\n",
    "rs_scaler_pipeline = Pipeline([(\"Robust\", RobustScaler()), \\\n",
    "                      (\"svc\", SVC(random_state=311, C=1000, degree = 6)) \\\n",
    "                     ])\n",
    "rs_scaler_pipeline.fit(x_train, y_train)\n",
    "print(\"For Robust Scaler :\")\n",
    "print(rs_scaler_pipeline.score(x_test, y_test))"
   ]
  },
  {
   "cell_type": "markdown",
   "id": "c2a8cff0",
   "metadata": {},
   "source": [
    "In the above output we can see that all the scalers give the same output on the wine dataset</br>\n",
    "Therefore we can use any of the scalers to create the GridSearchCV"
   ]
  },
  {
   "cell_type": "markdown",
   "id": "9c7056a8",
   "metadata": {},
   "source": [
    "<h1> Task 7 : Fitting the GridSearchCV</h1>"
   ]
  },
  {
   "cell_type": "code",
   "execution_count": 45,
   "id": "7300e69d",
   "metadata": {},
   "outputs": [
    {
     "name": "stdout",
     "output_type": "stream",
     "text": [
      "For Normalizer\n",
      "Best Parameter value : {'svc__C': 1000, 'svc__gamma': 5}\n",
      "Model Accuracy : 0.9333333333333333\n",
      "For Robust Scale\n",
      "Best Parameter value : {'svc__C': 10, 'svc__gamma': 1}\n",
      "Model Accuracy : 0.8666666666666667\n"
     ]
    }
   ],
   "source": [
    "# Implementing GridSearchCV using the Normalizer Scaler method\n",
    "param_vals = {'svc__C':[0.01, 0.1, 1, 10, 100, 1000],\n",
    "             'svc__gamma':[1,2,3, 4, 5, 6]}\n",
    "\n",
    "grid_search_pipe = GridSearchCV(n_scaler_pipeline, param_vals, cv=5, n_jobs = -2)\n",
    "grid_search_pipe.fit(x_train, y_train)\n",
    "print(\"For Normalizer\")\n",
    "print(\"Best Parameter value :\",grid_search_pipe.best_params_)\n",
    "print(\"Model Accuracy :\",grid_search_pipe.score(x_test, y_test))\n",
    "\n",
    "\n",
    "# Implementing GridSearchCV using the Robust Scaler method\n",
    "grid_search_pipe = GridSearchCV(rs_scaler_pipeline, param_vals, cv=5, n_jobs = -2)\n",
    "grid_search_pipe.fit(x_train, y_train)\n",
    "print(\"For Robust Scale\")\n",
    "print(\"Best Parameter value :\",grid_search_pipe.best_params_)\n",
    "print(\"Model Accuracy :\",grid_search_pipe.score(x_test, y_test))"
   ]
  },
  {
   "cell_type": "markdown",
   "id": "1fa8b552",
   "metadata": {},
   "source": [
    "<h1>Implementing SVC for USPS Dataset </h1>"
   ]
  },
  {
   "cell_type": "markdown",
   "id": "4cb37b89",
   "metadata": {},
   "source": [
    "<h1> Task 3 </h1>"
   ]
  },
  {
   "cell_type": "code",
   "execution_count": 46,
   "id": "8d00dfaf",
   "metadata": {},
   "outputs": [
    {
     "name": "stdout",
     "output_type": "stream",
     "text": [
      "Average Score : 0.97103089019505\n",
      "Error Rate : 0.028969109804950044\n"
     ]
    }
   ],
   "source": [
    "svc = SVC(random_state=311)\n",
    "svc.fit(d_x_train, d_y_train)\n",
    "cross_scores = cross_val_score(svc, d_x_train, d_y_train, cv=5)\n",
    "print(\"Average Score :\",np.mean(cross_scores))\n",
    "print(\"Error Rate :\", 1-np.mean(cross_scores))"
   ]
  },
  {
   "cell_type": "markdown",
   "id": "aa72e013",
   "metadata": {},
   "source": [
    "<h1> Task 4</h1>"
   ]
  },
  {
   "cell_type": "code",
   "execution_count": 47,
   "id": "5a3d0b7d",
   "metadata": {},
   "outputs": [
    {
     "name": "stdout",
     "output_type": "stream",
     "text": [
      "For SVC : SVC(C=0.01, degree=1, random_state=311)\n",
      "Average Score : 0.6506512807063555\n",
      "Error Rate : 0.3493487192936445\n",
      "\n",
      "\n",
      "For SVC : SVC(C=0.1, degree=2, random_state=311)\n",
      "Average Score : 0.9424935334742341\n",
      "Error Rate : 0.057506466525765854\n",
      "\n",
      "\n",
      "For SVC : SVC(C=1, random_state=311)\n",
      "Average Score : 0.97103089019505\n",
      "Error Rate : 0.028969109804950044\n",
      "\n",
      "\n",
      "For SVC : SVC(C=10, degree=4, random_state=311)\n",
      "Average Score : 0.9736126666769513\n",
      "Error Rate : 0.026387333323048656\n",
      "\n",
      "\n",
      "For SVC : SVC(C=100, degree=5, random_state=311)\n",
      "Average Score : 0.9736126666769513\n",
      "Error Rate : 0.026387333323048656\n",
      "\n",
      "\n",
      "For SVC : SVC(C=1000, degree=6, random_state=311)\n",
      "Average Score : 0.9727524516231879\n",
      "Error Rate : 0.027247548376812092\n",
      "\n",
      "\n"
     ]
    }
   ],
   "source": [
    "c_list = [0.01, 0.1, 1, 10, 100, 1000]\n",
    "degree_list = [1,2,3, 4, 5, 6]\n",
    "for i in range(len(c_list)):\n",
    "    svc = SVC(C = c_list[i], degree = degree_list[i], random_state=311)\n",
    "    svc.fit(d_x_train, d_y_train)\n",
    "    cross_scores = cross_val_score(svc, d_x_train, d_y_train, cv=5)\n",
    "    print(\"For SVC : {}\".format(svc))\n",
    "    print(\"Average Score :\",np.mean(cross_scores))\n",
    "    print(\"Error Rate :\", 1-np.mean(cross_scores))\n",
    "    print(\"\\n\")\n"
   ]
  },
  {
   "cell_type": "markdown",
   "id": "6dc27435",
   "metadata": {},
   "source": [
    "<h1>Task 5</h1>"
   ]
  },
  {
   "cell_type": "code",
   "execution_count": 48,
   "id": "d2b086c6",
   "metadata": {},
   "outputs": [
    {
     "name": "stdout",
     "output_type": "stream",
     "text": [
      "Configuration : SVC(C=1000, degree=6, random_state=311)\n",
      "Test Accuracy : 0.9759139784946237\n",
      "Test Error Rate : 0.02408602150537631\n"
     ]
    }
   ],
   "source": [
    "new_svc = SVC(C=1000, degree = 6, random_state=311)\n",
    "new_svc.fit(d_x_train, d_y_train)\n",
    "svc_acc = new_svc.score(d_x_test, d_y_test)\n",
    "print(\"Configuration :\", new_svc)\n",
    "print(\"Test Accuracy :\",svc_acc)\n",
    "d_err_rate = 1 - svc_acc\n",
    "print(\"Test Error Rate :\",d_err_rate)"
   ]
  },
  {
   "cell_type": "markdown",
   "id": "370d1f64",
   "metadata": {},
   "source": [
    "<h3>Observations</h3>\n",
    "Step 4 Accuracy : 0.9727<br>\n",
    "Step 5 Accuracy : 0.9759<br><br>\n",
    "\n",
    "Step 4 Error Rate : 0.0272<br>\n",
    "Step 5 Error Rate : 0.0240<br>\n",
    "\n",
    "From the above numbers we can say that the model performs almost same when tested using cross val and normal prediction.</br>"
   ]
  },
  {
   "cell_type": "markdown",
   "id": "9ee4862b",
   "metadata": {},
   "source": [
    "<h1>TAsk 6</h1>"
   ]
  },
  {
   "cell_type": "code",
   "execution_count": 49,
   "id": "58730ff8",
   "metadata": {},
   "outputs": [
    {
     "name": "stdout",
     "output_type": "stream",
     "text": [
      "For MinMax Scaler :\n",
      "0.9759139784946237\n",
      "\n",
      "\n",
      "For Normalizer Scaler :\n",
      "0.9746236559139785\n",
      "\n",
      "\n",
      "For Standard Scaler :\n",
      "0.970752688172043\n",
      "\n",
      "\n",
      "For Robust Scaler :\n",
      "0.944516129032258\n"
     ]
    }
   ],
   "source": [
    "# Creating the Pipeline with MinMAx Scaler\n",
    "mm_scaler_pipeline = Pipeline([(\"MinMaxScaler\", MinMaxScaler()), \\\n",
    "                      (\"svc\", SVC(random_state=311, C=1000, degree = 6)) \\\n",
    "                     ])\n",
    "mm_scaler_pipeline.fit(d_x_train, d_y_train)\n",
    "print(\"For MinMax Scaler :\")\n",
    "print(mm_scaler_pipeline.score(d_x_test, d_y_test))\n",
    "print(\"\\n\")\n",
    "\n",
    "# Creating the Pipeline with Normalizer Scaler\n",
    "n_scaler_pipeline = Pipeline([(\"Normalizer\", Normalizer()), \\\n",
    "                      (\"svc\", SVC(random_state=311, C=1000, degree = 6)) \\\n",
    "                     ])\n",
    "n_scaler_pipeline.fit(d_x_train, d_y_train)\n",
    "print(\"For Normalizer Scaler :\")\n",
    "print(n_scaler_pipeline.score(d_x_test, d_y_test))\n",
    "print(\"\\n\")\n",
    "\n",
    "# Creating the Pipeline with Standard Scaler\n",
    "ss_scaler_pipeline = Pipeline([(\"StandardScaler\", StandardScaler()), \\\n",
    "                      (\"svc\", SVC(random_state=311, C=1000, degree = 6)) \\\n",
    "                     ])\n",
    "ss_scaler_pipeline.fit(d_x_train, d_y_train)\n",
    "print(\"For Standard Scaler :\")\n",
    "print(ss_scaler_pipeline.score(d_x_test, d_y_test))\n",
    "print(\"\\n\")\n",
    "\n",
    "# Creating the Pipeline with Standard Scaler\n",
    "rs_scaler_pipeline = Pipeline([(\"Robust\", RobustScaler()), \\\n",
    "                      (\"svc\", SVC(random_state=311, C=1000, degree = 6)) \\\n",
    "                     ])\n",
    "rs_scaler_pipeline.fit(d_x_train, d_y_train)\n",
    "print(\"For Robust Scaler :\")\n",
    "print(rs_scaler_pipeline.score(d_x_test, d_y_test))"
   ]
  },
  {
   "cell_type": "markdown",
   "id": "019abee8",
   "metadata": {},
   "source": [
    "<h1> Task 7</h1>"
   ]
  },
  {
   "cell_type": "code",
   "execution_count": 50,
   "id": "4f45849d",
   "metadata": {},
   "outputs": [
    {
     "name": "stdout",
     "output_type": "stream",
     "text": [
      "For Normalizer\n",
      "Best Parameter value : {'svc__C': 10, 'svc__gamma': 2}\n",
      "Model Accuracy : 0.9767741935483871\n"
     ]
    }
   ],
   "source": [
    "# Implementing GridSearchCV using the Normalizer Scaler method\n",
    "param_vals = {'svc__C':[0.01, 0.1, 1, 10, 100, 1000],\n",
    "             'svc__gamma':[1,2,3, 4, 5, 6]}\n",
    "\n",
    "grid_search_pipe = GridSearchCV(n_scaler_pipeline, param_vals, cv=5, n_jobs = -2)\n",
    "grid_search_pipe.fit(d_x_train, d_y_train)\n",
    "print(\"For Normalizer\")\n",
    "print(\"Best Parameter value :\",grid_search_pipe.best_params_)\n",
    "print(\"Model Accuracy :\",grid_search_pipe.score(d_x_test, d_y_test))\n"
   ]
  },
  {
   "cell_type": "code",
   "execution_count": null,
   "id": "b8f1a4b5",
   "metadata": {},
   "outputs": [],
   "source": [
    "# Implementing GridSearchCV using the Robust Scaler method\n",
    "grid_search_pipe = GridSearchCV(ss_scaler_pipeline, param_vals, cv=5, n_jobs = -2)\n",
    "grid_search_pipe.fit(d_x_train, d_y_train)\n",
    "print(\"For Standard Scale\")\n",
    "print(\"Best Parameter value :\",grid_search_pipe.best_params_)\n",
    "print(\"Model Accuracy :\",grid_search_pipe.score(d_x_test, d_y_test))"
   ]
  },
  {
   "cell_type": "markdown",
   "id": "e4ebc5aa",
   "metadata": {},
   "source": [
    "<h1> Fun Observation </h1>"
   ]
  },
  {
   "cell_type": "code",
   "execution_count": null,
   "id": "109ced70",
   "metadata": {},
   "outputs": [],
   "source": [
    "# The usps digits data is the data of images of handwritten number\n",
    "# Each observations is 257 elements long, out of which the first element is the label(0-9)\n",
    "# So basically, there are 256 pixel values. If we imagine it in a grid structure, it shouold be a 16x16 matrix.\n",
    "# So if we reshape the features and zoom out and see, then we should be able to see the figure vaguely\n",
    "\n",
    "# Example:\n",
    "# Lets take any one row from the training data\n",
    "data_row = training_data[2]\n",
    "print(training_data[2])"
   ]
  },
  {
   "cell_type": "code",
   "execution_count": null,
   "id": "9ec7dbbb",
   "metadata": {},
   "outputs": [],
   "source": [
    "# As we can see that the first row is a label.\n",
    "# Now lets reshape the feature data into a 16x16 np array\n",
    "\n",
    "# if we really zoom out on the screen(by pressing Ctrl -), then we will be able to see a vague \n",
    "# pattern which represents the label number\n",
    "print(np.reshape(data_row[1:],(16,16)))"
   ]
  },
  {
   "cell_type": "code",
   "execution_count": null,
   "id": "936a5b64",
   "metadata": {},
   "outputs": [],
   "source": []
  }
 ],
 "metadata": {
  "kernelspec": {
   "display_name": "Python 3",
   "language": "python",
   "name": "python3"
  },
  "language_info": {
   "codemirror_mode": {
    "name": "ipython",
    "version": 3
   },
   "file_extension": ".py",
   "mimetype": "text/x-python",
   "name": "python",
   "nbconvert_exporter": "python",
   "pygments_lexer": "ipython3",
   "version": "3.8.8"
  }
 },
 "nbformat": 4,
 "nbformat_minor": 5
}
